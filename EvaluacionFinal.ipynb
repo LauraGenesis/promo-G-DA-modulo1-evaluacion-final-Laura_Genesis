{
 "cells": [
  {
   "cell_type": "markdown",
   "id": "986589a4b203904c",
   "metadata": {
    "collapsed": false
   },
   "source": [
    "# Evaluación Final"
   ]
  },
  {
   "cell_type": "code",
   "execution_count": 1,
   "id": "18a8d99fe06aa46b",
   "metadata": {
    "ExecuteTime": {
     "end_time": "2024-02-12T19:25:16.826171100Z",
     "start_time": "2024-02-12T19:25:16.780738900Z"
    },
    "collapsed": false
   },
   "outputs": [],
   "source": [
    "class TiendaOnline:\n",
    "\n",
    "    def __init__(self):#Atributos \n",
    "        self.inventario = []  # lista de diccionarios \n",
    "        self.clientes = {}  # diccionario \n",
    "        self.ventas_totales = 0.0  #variable float \n",
    "\n",
    "    def agregar_producto(self, nombre, precio, cantidad): #Definimos parámetros\n",
    "        producto_stock = {} #creamos una variable vacia de diccionarios \n",
    "\n",
    "        for producto in self.inventario: # Iteramos todos los productos del inventario   \n",
    "            if producto[\"nombre\"] == nombre: #Buscamos el nombre de producto si coincide con el parámetro facilitado en el a\n",
    "                producto_stock = producto #Guardamos el producto encontrado en producto stock  \n",
    "                producto_stock[\"cantidad\"] += cantidad # Se incrementa la cantidad en stock del producto, aqui estariamos actualizando el stock de ese producto \n",
    "                print(\"El producto ya está en Stock\") \n",
    "                return\n",
    "        if not producto_stock: # Aqui comprobamos si el producto_stock  está vacio\n",
    "            producto_nuevo = {\"nombre\": nombre, \"precio\": precio, \"cantidad\": cantidad} # Como no está Creeamos la variable dicionario para el nuevo producto \n",
    "            self.inventario.append(producto_nuevo) #agregamos el producto a la lista de inventario \n",
    "\n",
    "    def ver_inventario(self):\n",
    "        for producto in self.inventario: # Iteramos todos los productos del inventario  \n",
    "            print(f\"Nombre: {producto['nombre']}, Precio: ${producto['precio']}, Cantidad: {producto['cantidad']}\")# Imprimos todas las \n",
    "            # Imprime los detalles del producto, nombre,producto \n",
    "    def buscar_producto(self, nombre):\n",
    "        encontrado = None  #None es un valor vacio es decir una variable que se usa para almacenar el producto encontrado\n",
    "        for producto in self.inventario:#Iteramos todos los productos del inventario\n",
    "            if producto[\"nombre\"] == nombre: # verificamos si coincide con el nombre parametro \n",
    "                encontrado = producto \n",
    "                print(f\"Nombre: {producto['nombre']}, Precio: ${producto['precio']}, Cantidad: {producto['cantidad']}\")\n",
    "\n",
    "        if not encontrado: # Si no se encuentra el producto (la variable 'encontrado' sigue siendo None)\n",
    "            print(f\"{nombre} no está en inventario\") # imprimimos que el producto no está en el inventario\n",
    "\n",
    "    def actualizar_stock(self, nombre, cantidad):\n",
    "        encontrado = None # Variable para almacenar el producto encontrado\n",
    "        for producto in self.inventario:\n",
    "            if producto[\"nombre\"] == nombre: \n",
    "                encontrado = producto\n",
    "                encontrado[\"cantidad\"] += cantidad\n",
    "                print(f\"{encontrado['nombre']} ha sido actualizado a {encontrado['cantidad']}\")\n",
    "                return\n",
    "        if not encontrado:\n",
    "            print(f\"{nombre} no ha sido actualizado\")\n",
    "\n",
    "    def eliminar_producto(self, nombre):\n",
    "        for producto in self.inventario:\n",
    "            if producto[\"nombre\"] == nombre:\n",
    "                self.inventario.remove(producto) # Elimina el producto del inventario\n",
    "                print(f\"{nombre} ha sido eliminado del Inventario\")\n",
    "                return #Una vez eliminado el producto sale de la funcion \n",
    "        print(f\"{nombre}No esta en Inventario\")\n",
    "\n",
    "    def calcular_valor_inventario(self): \n",
    "        inventario_total = 0 #Esta variable almacena el valor total del inventario \n",
    "        for producto in self.inventario:\n",
    "            valor_producto = producto[\"precio\"] * producto[\"cantidad\"]\n",
    "            inventario_total += valor_producto # Suma el valor total del producto al valor total del inventario\n",
    "        print(f\"El valor del inventario es ${inventario_total}\")\n",
    "\n",
    "    def realizar_compra(self):\n",
    "        carrito = dict() #Creamos un diccionario para almacenar los productos el cliente y sus cantidades\n",
    "\n",
    "        while True:  #Bucle infinito para agregar productos y solicita al usuario que ingrese el nombre del producto que desea comprar o \"x\" para salir\n",
    "            pregunta = input(\"Qué producto desea comprar? (teclee x para salir)\")\n",
    "            if pregunta == \"x\": #Si ponemos x como output se para el bucle \n",
    "                break\n",
    "            encontrado = False #Variable para indicar si se ha encontrado el producto en el inventario\n",
    "            for producto in self.inventario:\n",
    "                if producto[\"nombre\"] == pregunta:\n",
    "                    encontrado = True #Variable encontrada\n",
    "                    print(f\"Nombre: {producto['nombre']}, Precio: ${producto['precio']}\")\n",
    "\n",
    "                    while True: #Bucle infinito para solicitar al usuario la cantidad de productos que desea comprar\n",
    "                        cantidad1 = int(input(f\" Cuántas {pregunta} quiere\"))\n",
    "                        if cantidad1 > 0 and cantidad1 <= producto[\"cantidad\"]: # Cantidad valida si es mayor que cero y menor o igual que la cantidad disponible\n",
    "                            if pregunta not in carrito: #Si el producto no está en el carrito, se agrega con su precio y cantidad\n",
    "                                carrito[pregunta] = {\"precio\": producto[\"precio\"], \"cantidad\": 0}\n",
    "                            carrito[pregunta][\"cantidad\"] += cantidad1\n",
    "                            producto[\"cantidad\"] -= cantidad1\n",
    "                            break\n",
    "                        elif cantidad1 > producto[\"cantidad\"]:\n",
    "                            print(\"no puede solicitar más cantidad de la disponible\")\n",
    "                        else:\n",
    "                            print(\"Introduce una cantidad valida\")\n",
    "            if not encontrado:\n",
    "                print(\"El producto no existe\")\n",
    "        return carrito #Devolvemos el diccionario carrito que contiene los productos seleccionados y sus cantidades\n",
    "\n",
    "    def procesar_pago(self):\n",
    "        try:\n",
    "            ticket = float(input(\"Introduzca el valor de la factura\"))\n",
    "            pago = float(input(\"Introduzca el dinero\"))\n",
    "            #No se tienen en cuenta ambas variables numeros negativos \n",
    "            if pago < ticket: \n",
    "                print(\"No tienes suficiente dinero\")\n",
    "            else:\n",
    "                print(f\"Compra exitosa, su cambio es ${pago - ticket}\")\n",
    "        except: #Si ocurre una excepción durante la entrada de datos\n",
    "            print(\"La cantidad debe ser un numero\") # se captura la excepción y se muestra un mensaje de error\n",
    "\n",
    "    def agregar_client(self, nombre, email):\n",
    "        if nombre in self.clientes:\n",
    "            print(\"Este cliente ya existe\")\n",
    "        else:   #Si el cliente no existe, agrega un nuevo cliente al diccionario de clientes   \n",
    "            self.clientes[nombre] = {'email': email, 'compras': []}\n",
    "            #con su nombre como clave y un diccionario que contiene el email  y una lista vacía de compras como valor\n",
    "\n",
    "    def ver_clientes(self):\n",
    "        for nombre, datos in self.clientes.items(): # Extrae el nombre y los datos del cliente\n",
    "            # for nombre in self.clientes.keys():\n",
    "            #     datos = self.clientes[nombre]\n",
    "            print(f\"{nombre}: {datos['email']}\") # Imprime el nombre del cliente y su correo electrónico\n",
    "\n",
    "    def registrar_compra(self, nombre_cliente, carrito): #Añadimos parametros,cliente y carrito\n",
    "        \n",
    "        if nombre_cliente in self.clientes: \n",
    "            total_compra = 0 # Iniciamos el total_compra en 0\n",
    "            self.clientes[nombre_cliente][\"compras\"].append(carrito) # Agrega el carrito de compras del cliente a la lista de compras del cliente\n",
    "            for producto in carrito.values(): # creamos otra variable total_carrito sumando el precio total de cada producto en el carrito\n",
    "                total_carrito = producto[\"precio\"] * producto[\"cantidad\"] \n",
    "                total_compra += total_carrito \n",
    "            print(f\"Total carrito: {total_compra}\")\n",
    "            self.ventas_totales += total_compra #Agrega el total de la compra a las ventas totales\n",
    "            print(f\"Ventas totales: {self.ventas_totales}\")\n",
    "        else:\n",
    "            print(\"No existe\")\n",
    "\n",
    "    def ver_compras_cliente(self, nombre_client):\n",
    "        numero_compra = 1 #Llevamos el seguimiento de la compra\n",
    "        total_compras = 0 # El total de compras\n",
    "        print(f\"Las compras de {nombre_client} son:\") \n",
    "        for compra in self.clientes[nombre_client][\"compras\"]: #Itera sobre cada compra del cliente en su lista de compras\n",
    "            # print(compra)\n",
    "            print(f\"numero de compra: {numero_compra}\")\n",
    "            total_carrito = 0  # Almacenamos el total de la compra actual\n",
    "            for nombre, datos in compra.items():   # Itera sobre cada producto en la compra actual(carrito)\n",
    "                valor = datos[\"precio\"]*datos[\"cantidad\"]  # Calculamos el valor total del producto multiplicando su precio por su cantidad\n",
    "                print(f\"  {nombre} {datos['cantidad']} x {datos['precio']} = {valor}\") #Imprimimos los detalles de la compra en el carrito\n",
    "                total_carrito +=valor # Agregamos el valor del producto al total del carrito\n",
    "            print(f\"  El total de la compra ha sido {total_carrito}\")\n",
    "            total_compras += total_carrito #Agrega el total de la compra actual al total de todas las compras del cliente\n",
    "            numero_compra += 1 # Incrementamos el número de compra \n",
    "        print(f\"Total de todas las compras: {total_compras}\")\n",
    "\n",
    "    def calcular_ventas_totales(self):\n",
    "        return self.ventas_totales\n",
    "        \n"
   ]
  },
  {
   "cell_type": "code",
   "execution_count": 2,
   "id": "a99e85ec83e7c82f",
   "metadata": {
    "ExecuteTime": {
     "end_time": "2024-02-12T19:25:16.845781700Z",
     "start_time": "2024-02-12T19:25:16.834792100Z"
    },
    "collapsed": false
   },
   "outputs": [],
   "source": [
    "tienda = TiendaOnline()"
   ]
  },
  {
   "cell_type": "code",
   "execution_count": 3,
   "id": "9b5a00d7c624fbf1",
   "metadata": {
    "ExecuteTime": {
     "end_time": "2024-02-12T19:25:16.896635100Z",
     "start_time": "2024-02-12T19:25:16.851601800Z"
    },
    "collapsed": false
   },
   "outputs": [
    {
     "name": "stdout",
     "output_type": "stream",
     "text": [
      "[{'nombre': 'zapatos', 'precio': 100, 'cantidad': 20}, {'nombre': 'blusas', 'precio': 50, 'cantidad': 50}, {'nombre': 'bolsos', 'precio': 200, 'cantidad': 15}]\n"
     ]
    }
   ],
   "source": [
    "tienda.agregar_producto(\"zapatos\", 100, 20)\n",
    "tienda.agregar_producto(\"blusas\", 50, 50)\n",
    "tienda.agregar_producto(\"bolsos\", 200, 15)\n",
    "print(tienda.inventario)"
   ]
  },
  {
   "cell_type": "code",
   "execution_count": 4,
   "id": "cb3f1f44",
   "metadata": {
    "ExecuteTime": {
     "end_time": "2024-02-12T19:25:16.897634300Z",
     "start_time": "2024-02-12T19:25:16.858109700Z"
    }
   },
   "outputs": [
    {
     "name": "stdout",
     "output_type": "stream",
     "text": [
      "Nombre: zapatos, Precio: $100, Cantidad: 20\n",
      "Nombre: blusas, Precio: $50, Cantidad: 50\n",
      "Nombre: bolsos, Precio: $200, Cantidad: 15\n"
     ]
    }
   ],
   "source": [
    "tienda.ver_inventario()"
   ]
  },
  {
   "cell_type": "code",
   "execution_count": 5,
   "id": "2e383d63acfaaf02",
   "metadata": {
    "ExecuteTime": {
     "end_time": "2024-02-12T19:25:16.901630100Z",
     "start_time": "2024-02-12T19:25:16.880602600Z"
    },
    "collapsed": false
   },
   "outputs": [
    {
     "name": "stdout",
     "output_type": "stream",
     "text": [
      "Nombre: zapatos, Precio: $100, Cantidad: 20\n"
     ]
    }
   ],
   "source": [
    "tienda.buscar_producto(\"zapatos\")"
   ]
  },
  {
   "cell_type": "code",
   "execution_count": 6,
   "id": "c5cecd2e",
   "metadata": {
    "ExecuteTime": {
     "end_time": "2024-02-12T19:25:16.919723600Z",
     "start_time": "2024-02-12T19:25:16.905740200Z"
    }
   },
   "outputs": [
    {
     "name": "stdout",
     "output_type": "stream",
     "text": [
      "gafas no está en inventario\n"
     ]
    }
   ],
   "source": [
    "tienda.buscar_producto(\"gafas\")"
   ]
  },
  {
   "cell_type": "code",
   "execution_count": 7,
   "id": "a40fb31e42a4e8ad",
   "metadata": {
    "ExecuteTime": {
     "end_time": "2024-02-12T19:25:16.964029500Z",
     "start_time": "2024-02-12T19:25:16.923561800Z"
    },
    "collapsed": false
   },
   "outputs": [
    {
     "name": "stdout",
     "output_type": "stream",
     "text": [
      "zapatos ha sido actualizado a 50\n",
      "[{'nombre': 'zapatos', 'precio': 100, 'cantidad': 50}, {'nombre': 'blusas', 'precio': 50, 'cantidad': 50}, {'nombre': 'bolsos', 'precio': 200, 'cantidad': 15}]\n"
     ]
    }
   ],
   "source": [
    "tienda.actualizar_stock(\"zapatos\", 30)\n",
    "print(tienda.inventario)"
   ]
  },
  {
   "cell_type": "code",
   "execution_count": 8,
   "id": "47c1e746",
   "metadata": {
    "ExecuteTime": {
     "end_time": "2024-02-12T19:25:17.016979200Z",
     "start_time": "2024-02-12T19:25:16.971923500Z"
    }
   },
   "outputs": [
    {
     "name": "stdout",
     "output_type": "stream",
     "text": [
      "pendientes no ha sido actualizado\n"
     ]
    }
   ],
   "source": [
    "tienda.actualizar_stock(\"pendientes\", 30)"
   ]
  },
  {
   "cell_type": "code",
   "execution_count": 9,
   "id": "c5a3de7363af6d24",
   "metadata": {
    "ExecuteTime": {
     "end_time": "2024-02-12T19:25:17.075261200Z",
     "start_time": "2024-02-12T19:25:17.007477700Z"
    },
    "collapsed": false
   },
   "outputs": [
    {
     "name": "stdout",
     "output_type": "stream",
     "text": [
      "blusas ha sido eliminado del Inventario\n",
      "[{'nombre': 'zapatos', 'precio': 100, 'cantidad': 50}, {'nombre': 'bolsos', 'precio': 200, 'cantidad': 15}]\n"
     ]
    }
   ],
   "source": [
    "tienda.eliminar_producto(\"blusas\")\n",
    "print(tienda.inventario)"
   ]
  },
  {
   "cell_type": "code",
   "execution_count": 10,
   "id": "557fe04aed5f3550",
   "metadata": {
    "ExecuteTime": {
     "end_time": "2024-02-12T19:25:17.095240600Z",
     "start_time": "2024-02-12T19:25:17.059276500Z"
    },
    "collapsed": false
   },
   "outputs": [
    {
     "name": "stdout",
     "output_type": "stream",
     "text": [
      "El valor del inventario es $8000\n"
     ]
    }
   ],
   "source": [
    "tienda.calcular_valor_inventario()"
   ]
  },
  {
   "cell_type": "code",
   "execution_count": 11,
   "id": "28b5ed0d303752b6",
   "metadata": {
    "ExecuteTime": {
     "end_time": "2024-02-12T19:25:29.786009800Z",
     "start_time": "2024-02-12T19:25:17.087247600Z"
    },
    "collapsed": false
   },
   "outputs": [
    {
     "name": "stdout",
     "output_type": "stream",
     "text": [
      "Nombre: bolsos, Precio: $200\n",
      "Nombre: zapatos, Precio: $100\n",
      "{'bolsos': {'precio': 200, 'cantidad': 3}, 'zapatos': {'precio': 100, 'cantidad': 5}}\n"
     ]
    }
   ],
   "source": [
    "carrito = tienda.realizar_compra()\n",
    "print(carrito)"
   ]
  },
  {
   "cell_type": "code",
   "execution_count": 12,
   "id": "7cbb195d",
   "metadata": {
    "ExecuteTime": {
     "end_time": "2024-02-12T19:25:29.787008500Z",
     "start_time": "2024-02-12T19:25:29.774292300Z"
    }
   },
   "outputs": [
    {
     "name": "stdout",
     "output_type": "stream",
     "text": [
      "Nombre: zapatos, Precio: $100, Cantidad: 45\n",
      "Nombre: bolsos, Precio: $200, Cantidad: 12\n"
     ]
    }
   ],
   "source": [
    "tienda.ver_inventario()"
   ]
  },
  {
   "cell_type": "code",
   "execution_count": 13,
   "id": "2a89101709a00db9",
   "metadata": {
    "ExecuteTime": {
     "end_time": "2024-02-12T19:25:29.815401400Z",
     "start_time": "2024-02-12T19:25:29.781015200Z"
    },
    "collapsed": false
   },
   "outputs": [
    {
     "name": "stdout",
     "output_type": "stream",
     "text": [
      "{'laura': {'email': 'laura@gmail.com', 'compras': []}}\n"
     ]
    }
   ],
   "source": [
    "tienda.agregar_client(\"laura\", \"laura@gmail.com\")\n",
    "\n",
    "print(tienda.clientes)"
   ]
  },
  {
   "cell_type": "code",
   "execution_count": 14,
   "id": "44b0fa1c1da4ae36",
   "metadata": {
    "ExecuteTime": {
     "end_time": "2024-02-12T19:25:29.856274300Z",
     "start_time": "2024-02-12T19:25:29.796023300Z"
    },
    "collapsed": false
   },
   "outputs": [
    {
     "name": "stdout",
     "output_type": "stream",
     "text": [
      "laura: laura@gmail.com\n",
      "genesis: genesis@yahoo.es\n",
      "jorge: jorge@outlook.com\n"
     ]
    }
   ],
   "source": [
    "tienda.agregar_client(\"genesis\", \"genesis@yahoo.es\")\n",
    "tienda.agregar_client(\"jorge\", \"jorge@outlook.com\")\n",
    "tienda.ver_clientes()"
   ]
  },
  {
   "cell_type": "code",
   "execution_count": 15,
   "id": "a7c3759e7b6db82b",
   "metadata": {
    "ExecuteTime": {
     "end_time": "2024-02-12T19:25:29.857273800Z",
     "start_time": "2024-02-12T19:25:29.803658100Z"
    },
    "collapsed": false
   },
   "outputs": [
    {
     "name": "stdout",
     "output_type": "stream",
     "text": [
      "Total carrito: 800\n",
      "Ventas totales: 800.0\n"
     ]
    }
   ],
   "source": [
    "carrito_laura = {\"zapatos\": {\"precio\": 100, \"cantidad\": 2},\n",
    "                 \"bolsos\": {\"precio\": 200, \"cantidad\": 3}}\n",
    "tienda.registrar_compra(\"laura\", carrito_laura)\n",
    "#print(tienda.clientes[\"laura\"][\"compras\"])"
   ]
  },
  {
   "cell_type": "code",
   "execution_count": 16,
   "id": "abcb9dad5022a30d",
   "metadata": {
    "ExecuteTime": {
     "end_time": "2024-02-12T19:25:29.881187Z",
     "start_time": "2024-02-12T19:25:29.818399100Z"
    },
    "collapsed": false
   },
   "outputs": [
    {
     "name": "stdout",
     "output_type": "stream",
     "text": [
      "Total carrito: 800\n",
      "Ventas totales: 1600.0\n"
     ]
    }
   ],
   "source": [
    "carrito_jorge = {\"zapatos\": {\"precio\": 100, \"cantidad\": 5},\n",
    "                 \"bolsos\": {\"precio\": 200, \"cantidad\": 1}}\n",
    "tienda.registrar_compra(\"jorge\", carrito_laura)"
   ]
  },
  {
   "cell_type": "code",
   "execution_count": 17,
   "id": "226ac16e54e9bfaf",
   "metadata": {
    "ExecuteTime": {
     "end_time": "2024-02-12T19:25:29.936132600Z",
     "start_time": "2024-02-12T19:25:29.864267600Z"
    },
    "collapsed": false
   },
   "outputs": [
    {
     "name": "stdout",
     "output_type": "stream",
     "text": [
      "[{'nombre': 'zapatos', 'precio': 100, 'cantidad': 45}, {'nombre': 'bolsos', 'precio': 200, 'cantidad': 12}]\n"
     ]
    }
   ],
   "source": [
    "print(tienda.inventario)"
   ]
  },
  {
   "cell_type": "code",
   "execution_count": 18,
   "id": "636846d5c9a31739",
   "metadata": {
    "ExecuteTime": {
     "end_time": "2024-02-12T19:25:30.002264800Z",
     "start_time": "2024-02-12T19:25:29.944481500Z"
    },
    "collapsed": false
   },
   "outputs": [
    {
     "name": "stdout",
     "output_type": "stream",
     "text": [
      "1600.0\n"
     ]
    }
   ],
   "source": [
    "print(tienda.ventas_totales)"
   ]
  },
  {
   "cell_type": "code",
   "execution_count": 19,
   "id": "6161e3849f0e528d",
   "metadata": {
    "ExecuteTime": {
     "end_time": "2024-02-12T19:25:30.052214Z",
     "start_time": "2024-02-12T19:25:29.974296600Z"
    },
    "collapsed": false
   },
   "outputs": [
    {
     "name": "stdout",
     "output_type": "stream",
     "text": [
      "{'laura': {'email': 'laura@gmail.com', 'compras': [{'zapatos': {'precio': 100, 'cantidad': 2}, 'bolsos': {'precio': 200, 'cantidad': 3}}]}, 'genesis': {'email': 'genesis@yahoo.es', 'compras': []}, 'jorge': {'email': 'jorge@outlook.com', 'compras': [{'zapatos': {'precio': 100, 'cantidad': 2}, 'bolsos': {'precio': 200, 'cantidad': 3}}]}}\n"
     ]
    }
   ],
   "source": [
    "print(tienda.clientes)"
   ]
  },
  {
   "cell_type": "code",
   "execution_count": 20,
   "id": "6b885a547f0c0578",
   "metadata": {
    "ExecuteTime": {
     "end_time": "2024-02-12T19:25:30.096345700Z",
     "start_time": "2024-02-12T19:25:30.060889Z"
    },
    "collapsed": false
   },
   "outputs": [
    {
     "name": "stdout",
     "output_type": "stream",
     "text": [
      "Total carrito: 400\n",
      "Ventas totales: 2000.0\n"
     ]
    }
   ],
   "source": [
    "carrito_laura = {\"bolsos\": {\"precio\": 400, \"cantidad\": 1}}\n",
    "tienda.registrar_compra(\"laura\", carrito_laura)"
   ]
  },
  {
   "cell_type": "code",
   "execution_count": 21,
   "id": "b94b0009906ec6d2",
   "metadata": {
    "ExecuteTime": {
     "end_time": "2024-02-12T19:25:30.128312300Z",
     "start_time": "2024-02-12T19:25:30.089632800Z"
    },
    "collapsed": false
   },
   "outputs": [
    {
     "name": "stdout",
     "output_type": "stream",
     "text": [
      "Las compras de laura son:\n",
      "numero de compra: 1\n",
      "  zapatos 2 x 100 = 200\n",
      "  bolsos 3 x 200 = 600\n",
      "  El total de la compra ha sido 800\n",
      "numero de compra: 2\n",
      "  bolsos 1 x 400 = 400\n",
      "  El total de la compra ha sido 400\n",
      "Total de todas las compras: 1200\n"
     ]
    }
   ],
   "source": [
    "tienda.ver_compras_cliente(\"laura\")"
   ]
  },
  {
   "cell_type": "code",
   "execution_count": 22,
   "id": "46be1d26f69f1315",
   "metadata": {
    "ExecuteTime": {
     "end_time": "2024-02-12T19:25:30.181279Z",
     "start_time": "2024-02-12T19:25:30.138305100Z"
    },
    "collapsed": false
   },
   "outputs": [
    {
     "name": "stdout",
     "output_type": "stream",
     "text": [
      "Las compras de jorge son:\n",
      "numero de compra: 1\n",
      "  zapatos 2 x 100 = 200\n",
      "  bolsos 3 x 200 = 600\n",
      "  El total de la compra ha sido 800\n",
      "Total de todas las compras: 800\n"
     ]
    }
   ],
   "source": [
    "tienda.ver_compras_cliente(\"jorge\")"
   ]
  },
  {
   "cell_type": "code",
   "execution_count": 23,
   "id": "ecb89e7d128fadaa",
   "metadata": {
    "ExecuteTime": {
     "end_time": "2024-02-12T19:25:30.221162400Z",
     "start_time": "2024-02-12T19:25:30.181279Z"
    },
    "collapsed": false
   },
   "outputs": [
    {
     "data": {
      "text/plain": [
       "2000.0"
      ]
     },
     "execution_count": 23,
     "metadata": {},
     "output_type": "execute_result"
    }
   ],
   "source": [
    "tienda.calcular_ventas_totales()"
   ]
  }
 ],
 "metadata": {
  "kernelspec": {
   "display_name": "Python 3",
   "language": "python",
   "name": "python3"
  },
  "language_info": {
   "codemirror_mode": {
    "name": "ipython",
    "version": 3
   },
   "file_extension": ".py",
   "mimetype": "text/x-python",
   "name": "python",
   "nbconvert_exporter": "python",
   "pygments_lexer": "ipython3",
   "version": "3.9.7"
  }
 },
 "nbformat": 4,
 "nbformat_minor": 5
}
